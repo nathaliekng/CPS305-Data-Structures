{
 "cells": [
  {
   "cell_type": "markdown",
   "metadata": {},
   "source": [
    "# CPS305 Fall 2019\n",
    "## Lab 1 Report\n",
    "## Nathalie Ng, Std ID 500921963\n",
    "\n",
    "12 September 2019\n",
    "\n",
    "# Introduction and Overall Comments\n",
    "\n",
    "The lab instructions could be a little more clear as it took me a really long time to completely understand what my code was supposed to do. After understanding the objective of the program though, I thought it was good and engaging. "
   ]
  },
  {
   "cell_type": "markdown",
   "metadata": {},
   "source": [
    "## Solution for exercise 1"
   ]
  },
  {
   "cell_type": "code",
   "execution_count": 6,
   "metadata": {},
   "outputs": [
    {
     "name": "stdout",
     "output_type": "stream",
     "text": [
      "String                       Score    Epoch\n",
      "mettpinxvmjs cqodehrvsxymitp 10.714286 100\n",
      "methinkxvmjs cqodehrvsxymitp 25.000000 200\n",
      "methinks mjs cqodehrvsxymitp 32.142857 300\n",
      "methinks ijs cqodehrvsxymitp 35.714286 400\n",
      "methinks it  cqodehrvsxymitp 42.857143 500\n",
      "methinks it is like vsxymitp 71.428571 600\n",
      "methinks it is like a weastp 92.857143 700\n",
      "methinks it is like a weasel 100.000000 729\n"
     ]
    },
    {
     "data": {
      "image/png": "[encoded data removed]",
      "text/plain": [
       "<Figure size 432x288 with 1 Axes>"
      ]
     },
     "metadata": {
      "needs_background": "light"
     },
     "output_type": "display_data"
    }
   ],
   "source": [
    "import random\n",
    "import matplotlib.pyplot as plt\n",
    "\n",
    "def generate(lenS, lenA, alphabet):\n",
    "#generate random string by getting a random integer and matching the integer to a letter in the alphabet\n",
    "    string = \"\"\n",
    "    for i in range(lenS):\n",
    "        a = random.randint(0,lenA-1)\n",
    "        string = string + alphabet[a]\n",
    "    return string\n",
    "\n",
    "def calcScore(newstr, target):\n",
    "#generate score for similarity of generated string and given string\n",
    "    similar = 0\n",
    "    for i in range(len(target)):\n",
    "        if newstr[i] == target[i]:\n",
    "            similar = similar + 1\n",
    "    return similar/len(target)*100\n",
    "    \n",
    "    \n",
    "def monkeyTypist():\n",
    "    #creating the scatter plot\n",
    "    x = []\n",
    "    y = []\n",
    "    plt.xlabel('Iteration')\n",
    "    plt.ylabel('Score of best string')\n",
    "    plt.title(\"Monkey Typist\")\n",
    "\n",
    "    target = list(\"methinks it is like a weasel\") \n",
    "    lenS = len(target)\n",
    "    alphabet = list(\"abcdefghijklmnopqrstuvwxyz \") \n",
    "    lenA = len(alphabet)\n",
    "    epoch = 0\n",
    "    bestStr = generate(lenS, lenA, alphabet)\n",
    "    bestScore = calcScore(bestStr, target)\n",
    "    print(\"String                       Score    Epoch\")\n",
    "    newScore = 0\n",
    "    while bestScore < 100:\n",
    "        if bestScore==100:\n",
    "            break\n",
    "        newStr = bestStr\n",
    "        if newScore<=bestScore:\n",
    "            #to check the first incorrect letter if the entire string is still incorrect\n",
    "            for i in range(len(newStr)):\n",
    "                if newStr[i] != target[i]:\n",
    "                    #if the letters don't match, it will generate a new letter to replace the old letter\n",
    "                    a = random.randint(0, lenA - 1)\n",
    "                    newLetter = alphabet[a]\n",
    "                    strList = list(newStr)\n",
    "                    strList[i] = newLetter\n",
    "                    strApp = ''.join(strList)\n",
    "                    newStr = strApp\n",
    "                    epoch = epoch + 1\n",
    "                    break\n",
    "            newScore = calcScore(newStr, target)\n",
    "        if newScore > bestScore:\n",
    "            bestScore = newScore\n",
    "            bestStr = newStr\n",
    "        if epoch%100==0:\n",
    "            print(\"%s %f %d\" % (\"\".join(bestStr), bestScore, epoch))\n",
    "            #appending to list for graph values\n",
    "            x.append(epoch)\n",
    "            y.append(bestScore)\n",
    "\n",
    "    #print and append the final score and epoch values to print at 100%, and plot at 100%\n",
    "    print(\"%s %f %d\" % (\"\".join(bestStr), bestScore, epoch))\n",
    "    x.append(epoch)\n",
    "    y.append(bestScore)\n",
    "    plt.scatter(x,y, label = 'graph', color = 'k', marker = '*')\n",
    "    plt.show()\n",
    "    \n",
    "monkeyTypist()"
   ]
  },
  {
   "cell_type": "markdown",
   "metadata": {},
   "source": [
    "**Discussion of the Results**\n",
    "\n",
    "The first line of the results show the generation of the random string after 100 tries of getting it closer to the target. This shows that a new string was successfully randomly generated with the generate function. We can see that every 100 times the program runs through the while loop, it will display the best result in that set. We can see in the colomn \"Epoch\" how many times in total the program has gone through the while loop to produce results closer to the target string. The program goes letter by letter starting from the left to get closer to the target string, with the final result of 100% similarity usually ranging between 300-900 tries. The scatter plot shows an upwards direction of increase to show that with every iteration through the while loop, the string will get closer and closer to the target. "
   ]
  },
  {
   "cell_type": "markdown",
   "metadata": {},
   "source": [
    "## Solution for Exercise 2"
   ]
  },
  {
   "cell_type": "code",
   "execution_count": 4,
   "metadata": {},
   "outputs": [],
   "source": []
  },
  {
   "cell_type": "markdown",
   "metadata": {},
   "source": [
    "**Discussion of the Results**\n",
    "\n",
    "..."
   ]
  }
 ],
 "metadata": {
  "kernelspec": {
   "display_name": "Python 3",
   "language": "python",
   "name": "python3"
  },
  "language_info": {
   "codemirror_mode": {
    "name": "ipython",
    "version": 3
   },
   "file_extension": ".py",
   "mimetype": "text/x-python",
   "name": "python",
   "nbconvert_exporter": "python",
   "pygments_lexer": "ipython3",
   "version": "3.7.4"
  },
  "latex_envs": {
   "LaTeX_envs_menu_present": true,
   "autoclose": false,
   "autocomplete": true,
   "bibliofile": "biblio.bib",
   "cite_by": "apalike",
   "current_citInitial": 1,
   "eqLabelWithNumbers": true,
   "eqNumInitial": 1,
   "hotkeys": {
    "equation": "Ctrl-E",
    "itemize": "Ctrl-I"
   },
   "labels_anchors": false,
   "latex_user_defs": false,
   "report_style_numbering": false,
   "user_envs_cfg": false
  }
 },
 "nbformat": 4,
 "nbformat_minor": 2
}
