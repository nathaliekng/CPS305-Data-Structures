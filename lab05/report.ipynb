{
 "cells": [
  {
   "cell_type": "markdown",
   "metadata": {},
   "source": [
    "# CPS305 Fall 2019\n",
    "## Lab 5 Report\n",
    "## Nathalie Ng, Std ID 500921963\n",
    "\n",
    "10 October 2019\n",
    "\n",
    "# Introduction and Overall Comments\n",
    "\n",
    "This is Nathalie Ng's submittion for lab 5. "
   ]
  },
  {
   "cell_type": "markdown",
   "metadata": {},
   "source": [
    "## Solution for exercise 1"
   ]
  },
  {
   "cell_type": "code",
   "execution_count": 5,
   "metadata": {},
   "outputs": [
    {
     "name": "stdout",
     "output_type": "stream",
     "text": [
      "[17, None, None, 54, 55, 20, None, None, 93, 26, 44, 77, None, None, 31, None, None]\n",
      "['tiger', None, None, 'cat', 'pig', 'chicken', None, None, 'lion', 'dog', 'goat', 'bird', None, None, 'cow', None, None]\n"
     ]
    }
   ],
   "source": [
    "class HashTable:\n",
    "  def __init__(self):\n",
    "      self.size = 11\n",
    "      self.full = 0 #an accumulator for how full the table is as put() is called. \n",
    "      self.load = 0.60\n",
    "      self.slots = [None] * self.size\n",
    "      self.data = [None] * self.size\n",
    "\n",
    "  def put(self,key,data):\n",
    "    hashvalue = self.hashfunction(key,len(self.slots))\n",
    "    if self.slots[hashvalue] == None:\n",
    "      self.slots[hashvalue] = key\n",
    "      self.data[hashvalue] = data\n",
    "      self.full += 1\n",
    "    else:\n",
    "      if self.slots[hashvalue] == key:\n",
    "        self.data[hashvalue] = data  #replace\n",
    "      else:\n",
    "        nextslot = self.rehash(hashvalue,len(self.slots))\n",
    "        while self.slots[nextslot] != None and \\\n",
    "                        self.slots[nextslot] != key:\n",
    "          nextslot = self.rehash(nextslot,len(self.slots))\n",
    "\n",
    "        if self.slots[nextslot] == None:\n",
    "          self.slots[nextslot]=key\n",
    "          self.data[nextslot]=data\n",
    "          self.full += 1\n",
    "        else:\n",
    "          self.data[nextslot] = data #replace\n",
    "    if self.full/self.size > self.load: \n",
    "      #the accumulator will increase everytime something gets added to the hashtable, and when the acccumulator/size is greater than 65%, it will resize\n",
    "      self.resize(self.size)\n",
    "                   \n",
    "  def resize(self, num):\n",
    "      #resize to next prime number\n",
    "      x = 0\n",
    "      while x == 0:\n",
    "          #the size will increase by 1 everytime the while loops runs \n",
    "          #it will increase by 1 until it hits a prime number\n",
    "          num += 1\n",
    "          #prime number finder \n",
    "          for i in range(2,num):\n",
    "              if (num % i) == 0:\n",
    "                x = 0\n",
    "                break\n",
    "              else:\n",
    "                x = 1\n",
    "      #storing the information of the current hashtable into temp\n",
    "      tempSlots = self.slots\n",
    "      tempData = self.data\n",
    "      #re-initializing the size, slots, resetting data and accumulator\n",
    "      self.size = num\n",
    "      self.slots = [None] * num\n",
    "      self.data = [None] * num\n",
    "      self.full = 0\n",
    "      #putting the erased data back into the resized hash table to their new positions\n",
    "      for i in range(len(tempData)):\n",
    "        if tempData[i] != None:\n",
    "          self.put(tempSlots[i],tempData[i])\n",
    "      return num\n",
    "\n",
    "  def hashfunction(self,key,size):\n",
    "       return key%size\n",
    "\n",
    "  def rehash(self,oldhash,size):\n",
    "      return (oldhash+1)%size\n",
    "\n",
    "  def get(self,key):\n",
    "    startslot = self.hashfunction(key,len(self.slots))\n",
    "\n",
    "    data = None\n",
    "    stop = False\n",
    "    found = False\n",
    "    position = startslot\n",
    "    while self.slots[position] != None and  \\\n",
    "                         not found and not stop:\n",
    "       if self.slots[position] == key:\n",
    "         found = True\n",
    "         data = self.data[position]\n",
    "       else:\n",
    "         position=self.rehash(position,len(self.slots))\n",
    "         if position == startslot:\n",
    "             stop = True\n",
    "    return data\n",
    "\n",
    "  def __getitem__(self,key):\n",
    "    return self.get(key)\n",
    "\n",
    "  def __setitem__(self,key,data):\n",
    "    self.put(key,data)\n",
    "\n",
    "\n",
    "H=HashTable()\n",
    "H[54]=\"cat\"\n",
    "H[26]=\"dog\"\n",
    "H[93]=\"lion\"\n",
    "H[17]=\"tiger\"\n",
    "H[77]=\"bird\"\n",
    "H[31]=\"cow\"\n",
    "H[44]=\"goat\"\n",
    "H[55]=\"pig\"\n",
    "H[20]=\"chicken\"\n",
    "print(H.slots)\n",
    "print(H.data)"
   ]
  },
  {
   "cell_type": "markdown",
   "metadata": {},
   "source": [
    "**Discussion of the Results**\n",
    "1. I call my resizing function if my accumulator(full)/size is greater than my load. Inside my resizing function, I set self.size to my new size, which is the next prime number after 11. I use prime numbers for my next size so that all the slots will eventually be visited, as mentioned in the textbook. Everytime resize() is called, it will add 1 to the size until it reaches the next prime number.  \n",
    "\n",
    "2. I decided on my load by testing numbers between 50-75. I noticed that if my load was at 75%, it would not resize at all with my resizing method. I wanted my program to resize at least once. I could use 50%, and it would resize a few times but I chose a number in between 50 and 75 so it would resize a couple times. \n"
   ]
  },
  {
   "cell_type": "markdown",
   "metadata": {},
   "source": [
    "## Solution for Exercise 2"
   ]
  },
  {
   "cell_type": "code",
   "execution_count": 4,
   "metadata": {},
   "outputs": [],
   "source": [
    "# Python code and its output"
   ]
  },
  {
   "cell_type": "markdown",
   "metadata": {},
   "source": [
    "**Discussion of the Results**\n",
    "\n",
    "..."
   ]
  }
 ],
 "metadata": {
  "kernelspec": {
   "display_name": "Python 3",
   "language": "python",
   "name": "python3"
  },
  "language_info": {
   "codemirror_mode": {
    "name": "ipython",
    "version": 3
   },
   "file_extension": ".py",
   "mimetype": "text/x-python",
   "name": "python",
   "nbconvert_exporter": "python",
   "pygments_lexer": "ipython3",
   "version": "3.7.4"
  },
  "latex_envs": {
   "LaTeX_envs_menu_present": true,
   "autoclose": false,
   "autocomplete": true,
   "bibliofile": "biblio.bib",
   "cite_by": "apalike",
   "current_citInitial": 1,
   "eqLabelWithNumbers": true,
   "eqNumInitial": 1,
   "hotkeys": {
    "equation": "Ctrl-E",
    "itemize": "Ctrl-I"
   },
   "labels_anchors": false,
   "latex_user_defs": false,
   "report_style_numbering": false,
   "user_envs_cfg": false
  }
 },
 "nbformat": 4,
 "nbformat_minor": 2
}
