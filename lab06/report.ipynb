{
 "cells": [
  {
   "cell_type": "markdown",
   "metadata": {},
   "source": [
    "# CPS305 Fall 2019\n",
    "## Lab 6 Report\n",
    "## Nathalie Ng, Std ID 500921963\n",
    "\n",
    "October 28, 2019\n",
    "# Introduction and Overall Comments\n"
   ]
  },
  {
   "cell_type": "markdown",
   "metadata": {},
   "source": [
    "## Solution for exercise 1"
   ]
  },
  {
   "cell_type": "code",
   "execution_count": 10,
   "metadata": {},
   "outputs": [
    {
     "name": "stdout",
     "output_type": "stream",
     "text": [
      "[17, 20, 26, 31, 44, 54, 55, 77, 93]\n"
     ]
    }
   ],
   "source": [
    "def quickSort(alist):\n",
    "    quickSortHelper(alist, 0, len(alist)-1)\n",
    "\n",
    "def quickSortHelper(alist, first, last):\n",
    "    \n",
    "    if first<last:\n",
    "        splitpoint = partition(alist, first, last)\n",
    "\n",
    "        quickSortHelper(alist, first, splitpoint-1)\n",
    "        quickSortHelper(alist, splitpoint+1, last)\n",
    "\n",
    "def mo3_quickSort(alist):\n",
    "    mo3_quickSortHelper(alist, 0, len(alist)-1)\n",
    "\n",
    "def mo3_quickSortHelper(alist, first, last):\n",
    "    pivot = findPivot(alist)\n",
    "    #new pivot using median\n",
    "    #switch the first value in alist with alist[pivot]\n",
    "    temp = alist[0]\n",
    "    alist[0] = alist[pivot]\n",
    "    alist[pivot] = temp \n",
    "\n",
    "    if first<last:\n",
    "        splitpoint = partition(alist, first, last)\n",
    "\n",
    "        quickSortHelper(alist, first, splitpoint-1)\n",
    "        quickSortHelper(alist, splitpoint+1, last)\n",
    "\n",
    "def findPivot(alist):\n",
    "    #function to sort my first, middle and last by least to greatest\n",
    "    #sort list, then return index of value that ends up in the middle\n",
    "    first = alist[0]\n",
    "    middle = alist[len(alist)//2]\n",
    "    last = alist[len(alist)-1]\n",
    "    list = [first, middle, last]\n",
    "    \n",
    "    if list[0] == list[1]:\n",
    "        if list[1] > list[2]:\n",
    "            temp = list[0]\n",
    "            list[0] = list[2]\n",
    "            list[2] = temp\n",
    "    if list[0] > list[1]:\n",
    "        temp = list[0] \n",
    "        list[0]=list[1]\n",
    "        list[1] = temp\n",
    "    if list[1] > list[2]:\n",
    "        temp = list[1]\n",
    "        list[1] = list[2]\n",
    "        list[2] = temp\n",
    "        if list[1] < list[0]: \n",
    "            temp = list[0]\n",
    "            list[0] = list[1]\n",
    "            list[1] = temp\n",
    "    if list[1] == middle:\n",
    "        return len(alist)//2\n",
    "    elif list[1] == first:\n",
    "        return 0\n",
    "    else:\n",
    "        return len(alist)-1\n",
    "def partition(alist,first,last):\n",
    "    pivotvalue = alist[first]\n",
    "\n",
    "    leftmark = first+1\n",
    "    rightmark = last\n",
    "\n",
    "    done = False\n",
    "    while not done:\n",
    "\n",
    "        while leftmark <= rightmark and alist[leftmark] <= pivotvalue:\n",
    "            leftmark = leftmark + 1\n",
    "\n",
    "        while alist[rightmark] >= pivotvalue and rightmark >= leftmark:\n",
    "            rightmark = rightmark -1\n",
    "\n",
    "        if rightmark < leftmark:\n",
    "            done = True\n",
    "        else:\n",
    "            temp = alist[leftmark]\n",
    "            alist[leftmark] = alist[rightmark]\n",
    "            alist[rightmark] = temp\n",
    "\n",
    "    temp = alist[first]\n",
    "    alist[first] = alist[rightmark]\n",
    "    alist[rightmark] = temp\n",
    "    return rightmark\n",
    "\n",
    "alist = [54,26,93,17,77,31,44,55,20]\n",
    "#quickSort(alist)\n",
    "mo3_quickSort(alist)\n",
    "print(alist)\n"
   ]
  },
  {
   "cell_type": "markdown",
   "metadata": {},
   "source": [
    "**Discussion of the Results**\n",
    "\n",
    "..."
   ]
  },
  {
   "cell_type": "markdown",
   "metadata": {},
   "source": [
    "## Solution for Exercise 2"
   ]
  },
  {
   "cell_type": "code",
   "execution_count": 11,
   "metadata": {},
   "outputs": [
    {
     "name": "stderr",
     "output_type": "stream",
     "text": [
      "."
     ]
    },
    {
     "name": "stdout",
     "output_type": "stream",
     "text": [
      "[17, 20, 26, 31, 44, 54, 55, 77, 93]\n"
     ]
    },
    {
     "name": "stderr",
     "output_type": "stream",
     "text": [
      "\n",
      "----------------------------------------------------------------------\n",
      "Ran 1 test in 0.003s\n",
      "\n",
      "OK\n"
     ]
    }
   ],
   "source": [
    "#Nathalie Ng 500921963\n",
    "import unittest\n",
    "from sorting import mo3_quickSort\n",
    "\n",
    "class Test(unittest.TestCase):\n",
    "\n",
    "    def test_mo3(self):\n",
    "        list1=[90,1,2,3,28,39,12,42]\n",
    "        mo3_quickSort(list1)\n",
    "        self.assertEqual(list1, [1, 2, 3, 12, 28, 39, 42, 90])\n",
    "        list2=[-80,2,31,41,23,-32,76,1]\n",
    "        mo3_quickSort(list2)\n",
    "        self.assertEqual(list2, [-80, -32, 1, 2, 23, 31, 41, 76])\n",
    "        list3=[10,23,4,5,631,23]\n",
    "        mo3_quickSort(list3)\n",
    "        self.assertEqual(list3, [4, 5, 10, 23, 23, 631])\n",
    "        list4=[19,23,45,67,89,1,2,5,32,51,22,46]\n",
    "        mo3_quickSort(list4)\n",
    "        self.assertEqual(list4, [1, 2, 5, 19, 22, 23, 32, 45, 46, 51, 67, 89])\n",
    "\n",
    "\n",
    "if __name__ == '__main__':\n",
    "    unittest.main(argv=['first-arg-is-ignored'], exit=False)\n",
    "\n",
    "\n",
    "\n"
   ]
  },
  {
   "cell_type": "code",
   "execution_count": null,
   "metadata": {},
   "outputs": [],
   "source": []
  },
  {
   "cell_type": "markdown",
   "metadata": {},
   "source": [
    "**Discussion of the Results**\n",
    "\n",
    "..."
   ]
  },
  {
   "cell_type": "code",
   "execution_count": 17,
   "metadata": {},
   "outputs": [
    {
     "data": {
      "image/png": "[encoded data removed]",
      "text/plain": [
       "<Figure size 432x288 with 1 Axes>"
      ]
     },
     "metadata": {
      "needs_background": "light"
     },
     "output_type": "display_data"
    }
   ],
   "source": [
    "import timeit\n",
    "import matplotlib.pyplot as plt\n",
    "import random\n",
    "from sorting import *\n",
    "\n",
    "plt.xlabel('Size')\n",
    "plt.ylabel('Time(in milliseconds)')\n",
    "y1 = []\n",
    "y2 = []\n",
    "x1 = range(100, 1000, 50)\n",
    "\n",
    "\n",
    "for i in x1:\n",
    "    list=[]\n",
    "    for i in range(random.randint(0,100)):\n",
    "        list.append(random.randint(0,200))\n",
    "\n",
    "    listQuick=list\n",
    "    listMo=list\n",
    "    \n",
    "    tQuick = timeit.timeit(\"quickSort(listQuick)\", \"from __main__ import listQuick, quickSort\", number = 10)\n",
    "    y1.append(tQuick)\n",
    "\n",
    "    tMo3 = timeit.timeit(\"mo3_quickSort(listMo)\", \"from __main__ import listMo, mo3_quickSort\", number = 10)\n",
    "    y2.append(tMo3)\n",
    "\n",
    "#plot values onto graph \n",
    "plt.plot(x1,y1,  \"r.\", label= \"quicksort\")\n",
    "plt.plot(x1,y2, \"b.\", label = \"mo3quicksort\")\n",
    "plt.legend(loc='upper right', bbox_to_anchor=(1.3, 1))\n",
    "plt.show()"
   ]
  },
  {
   "cell_type": "code",
   "execution_count": 11,
   "metadata": {},
   "outputs": [
    {
     "ename": "SyntaxError",
     "evalue": "invalid syntax (<ipython-input-11-b1e7ae2070de>, line 1)",
     "output_type": "error",
     "traceback": [
      "\u001b[0;36m  File \u001b[0;32m\"<ipython-input-11-b1e7ae2070de>\"\u001b[0;36m, line \u001b[0;32m1\u001b[0m\n\u001b[0;31m    Discussion:\u001b[0m\n\u001b[0m               ^\u001b[0m\n\u001b[0;31mSyntaxError\u001b[0m\u001b[0;31m:\u001b[0m invalid syntax\n"
     ]
    }
   ],
   "source": [
    "Discussion:\n",
    "    \n",
    "I used the timeit function to compare and graph time values, similarly to lab 2. \n",
    "The timeit function compared quickSort vs. the median method.\n",
    "I created a random sized list between 0-100 assigned with random numbers ranging from 0-200. \n",
    "The for loop within the first for loop is what makes the random list, which gets assigned to listQuick and listMo.\n",
    "I assigned list to two different list variables so that if list was ever changed in between timing, it would not affect \n",
    "any of my tests.\n",
    "The graph shows that for the most part, quickSort takes longer than m03quicksort. We can see that the blue dots on the graph \n",
    "are mostly significantly lower on the graph ( faster) than the red dots. Quicksort is about 1.5 times slower than mo3quicksort. \n"
   ]
  },
  {
   "cell_type": "code",
   "execution_count": null,
   "metadata": {},
   "outputs": [],
   "source": []
  },
  {
   "cell_type": "code",
   "execution_count": null,
   "metadata": {},
   "outputs": [],
   "source": []
  }
 ],
 "metadata": {
  "kernelspec": {
   "display_name": "Python 3",
   "language": "python",
   "name": "python3"
  },
  "language_info": {
   "codemirror_mode": {
    "name": "ipython",
    "version": 3
   },
   "file_extension": ".py",
   "mimetype": "text/x-python",
   "name": "python",
   "nbconvert_exporter": "python",
   "pygments_lexer": "ipython3",
   "version": "3.7.4"
  },
  "latex_envs": {
   "LaTeX_envs_menu_present": true,
   "autoclose": false,
   "autocomplete": true,
   "bibliofile": "biblio.bib",
   "cite_by": "apalike",
   "current_citInitial": 1,
   "eqLabelWithNumbers": true,
   "eqNumInitial": 1,
   "hotkeys": {
    "equation": "Ctrl-E",
    "itemize": "Ctrl-I"
   },
   "labels_anchors": false,
   "latex_user_defs": false,
   "report_style_numbering": false,
   "user_envs_cfg": false
  }
 },
 "nbformat": 4,
 "nbformat_minor": 2
}
